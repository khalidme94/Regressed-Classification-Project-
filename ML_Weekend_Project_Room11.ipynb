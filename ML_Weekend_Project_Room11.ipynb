{
  "nbformat": 4,
  "nbformat_minor": 0,
  "metadata": {
    "colab": {
      "name": "ML_Weekend_Project_Room11.ipynb",
      "provenance": [],
      "collapsed_sections": [
        "0_7Lt0ei5Jwh",
        "Kshm-gEa5Ow0",
        "0dVdlwXK7g9C",
        "6WQEz8RAMldd",
        "sdrraJbPN6Wl",
        "hBMBTa2xM_FO",
        "oC3MX6vYNNa0",
        "lfEOt3K-NdrG",
        "rq_QG2EKNkFW",
        "s-FrY6oxOn-s",
        "P2l7ncZXOvkw",
        "aJ5fooedOv2R",
        "CHTdo3NAOx_L",
        "Oj_5a1NvOyNI",
        "UytH-BlTOyXh",
        "raqTBM7XOydg",
        "VaxvI-WG5d9S",
        "C5qF9kjyKVQy",
        "FQb2T3zPKa-C",
        "UhNR63--LFVU",
        "GUpbSvx-YV9C",
        "_aiVrUyPTZK6",
        "yNQ4o6H_Vh-x",
        "q_5ecWanWF1w",
        "ZGsMfOoPVNP2",
        "TEyQiegSJ5-I",
        "c2d1QMJ0Wmnc",
        "MYAMyJfc8k9P",
        "ryG9zI5VJwJw",
        "P3UATCvnVZaf",
        "DOkphUe26vZ4"
      ],
      "include_colab_link": true
    },
    "kernelspec": {
      "name": "python3",
      "display_name": "Python 3"
    }
  },
  "cells": [
    {
      "cell_type": "markdown",
      "metadata": {
        "id": "view-in-github",
        "colab_type": "text"
      },
      "source": [
        "<a href=\"https://colab.research.google.com/github/mesha4545a/Regressed-Classification-Project-/blob/main/ML_Weekend_Project_Room11.ipynb\" target=\"_parent\"><img src=\"https://colab.research.google.com/assets/colab-badge.svg\" alt=\"Open In Colab\"/></a>"
      ]
    },
    {
      "cell_type": "markdown",
      "metadata": {
        "id": "_6vxKBMZ3u3d"
      },
      "source": [
        "#**Importing needed libraries**\r\n"
      ]
    },
    {
      "cell_type": "code",
      "metadata": {
        "id": "0NosfaVV3mFr"
      },
      "source": [
        "import pandas as pd\r\n",
        "import numpy as np\r\n",
        "import seaborn as sns\r\n",
        "import matplotlib.pyplot as plt\r\n",
        "from sklearn.metrics import *\r\n",
        "from sklearn.linear_model import LogisticRegression\r\n",
        "from sklearn.linear_model import LinearRegression\r\n",
        "from sklearn.model_selection import GridSearchCV\r\n",
        "from sklearn.neighbors import KNeighborsClassifier\r\n",
        "from sklearn.preprocessing import StandardScaler\r\n",
        "from sklearn.linear_model import SGDClassifier\r\n",
        "from sklearn.model_selection import RandomizedSearchCV\r\n",
        "from scipy.stats import *\r\n",
        "sns.set_palette('Set2')"
      ],
      "execution_count": null,
      "outputs": []
    },
    {
      "cell_type": "markdown",
      "metadata": {
        "id": "0_7Lt0ei5Jwh"
      },
      "source": [
        "#**Importing Data**"
      ]
    },
    {
      "cell_type": "code",
      "metadata": {
        "id": "sqSlLEhP4SXH"
      },
      "source": [
        "# Starter Code --DO NOT ADJUST--\r\n",
        "col_names = [\"age\", \"workclass\", \"fnlwgt\", \"education\", \"education_num\", \"marital_status\", \"ooccupation\", \"relationship\", \"race\", \"sex\", \"capital_gain\", \"capital_loss\", \"hours_per_week\", \"native_country\", \"target\"]\r\n",
        "training = pd.read_csv(\"https://archive.ics.uci.edu/ml/machine-learning-databases/adult/adult.data\", names=col_names).drop(\"race\", axis=1)\r\n",
        "test = pd.read_csv(\"https://archive.ics.uci.edu/ml/machine-learning-databases/adult/adult.test\", names=col_names, skiprows=1).drop(\"race\", axis=1)\r\n",
        "\r\n",
        "training[\"target\"] = training[\"target\"].apply(lambda x: x.strip())\r\n",
        "test[\"target\"] = test[\"target\"].apply(lambda x: x.strip()[:-1])\r\n",
        "\r\n",
        "\r\n"
      ],
      "execution_count": null,
      "outputs": []
    },
    {
      "cell_type": "markdown",
      "metadata": {
        "id": "Kshm-gEa5Ow0"
      },
      "source": [
        "#**EDA**"
      ]
    },
    {
      "cell_type": "markdown",
      "metadata": {
        "id": "0dVdlwXK7g9C"
      },
      "source": [
        "###**Data Understanding**"
      ]
    },
    {
      "cell_type": "markdown",
      "metadata": {
        "id": "6WQEz8RAMldd"
      },
      "source": [
        "####Gathering information about the dataset"
      ]
    },
    {
      "cell_type": "code",
      "metadata": {
        "id": "kseiYY4zMHdW"
      },
      "source": [
        "training.info()"
      ],
      "execution_count": null,
      "outputs": []
    },
    {
      "cell_type": "markdown",
      "metadata": {
        "id": "sdrraJbPN6Wl"
      },
      "source": [
        "####Dataset Shape"
      ]
    },
    {
      "cell_type": "code",
      "metadata": {
        "id": "1nvPvTlgrO0P"
      },
      "source": [
        "training.shape"
      ],
      "execution_count": null,
      "outputs": []
    },
    {
      "cell_type": "markdown",
      "metadata": {
        "id": "hBMBTa2xM_FO"
      },
      "source": [
        "####Describing Categorical Data"
      ]
    },
    {
      "cell_type": "code",
      "metadata": {
        "id": "bz-16EsiL2VT"
      },
      "source": [
        " training.describe(exclude='number')"
      ],
      "execution_count": null,
      "outputs": []
    },
    {
      "cell_type": "markdown",
      "metadata": {
        "id": "oC3MX6vYNNa0"
      },
      "source": [
        "####Viewing some basic statistical details‏"
      ]
    },
    {
      "cell_type": "code",
      "metadata": {
        "id": "wGSCq2MKNM_v"
      },
      "source": [
        " training.describe()"
      ],
      "execution_count": null,
      "outputs": []
    },
    {
      "cell_type": "markdown",
      "metadata": {
        "id": "lfEOt3K-NdrG"
      },
      "source": [
        "####Checking Null Values"
      ]
    },
    {
      "cell_type": "code",
      "metadata": {
        "id": "ecPZRfkHq8y-"
      },
      "source": [
        "training.isnull().sum()"
      ],
      "execution_count": null,
      "outputs": []
    },
    {
      "cell_type": "markdown",
      "metadata": {
        "id": "rq_QG2EKNkFW"
      },
      "source": [
        "####Value Count of All Categorical Data"
      ]
    },
    {
      "cell_type": "markdown",
      "metadata": {
        "id": "s-FrY6oxOn-s"
      },
      "source": [
        "#####workclass"
      ]
    },
    {
      "cell_type": "code",
      "metadata": {
        "id": "lxClovzhrVLf"
      },
      "source": [
        "training.workclass.value_counts()"
      ],
      "execution_count": null,
      "outputs": []
    },
    {
      "cell_type": "markdown",
      "metadata": {
        "id": "P2l7ncZXOvkw"
      },
      "source": [
        "#####education"
      ]
    },
    {
      "cell_type": "code",
      "metadata": {
        "id": "KTQEgynKreLQ"
      },
      "source": [
        "training.education.value_counts()"
      ],
      "execution_count": null,
      "outputs": []
    },
    {
      "cell_type": "markdown",
      "metadata": {
        "id": "BAvXlaRfOvtT"
      },
      "source": [
        "#####marital_status"
      ]
    },
    {
      "cell_type": "code",
      "metadata": {
        "id": "GUHqc1screfW"
      },
      "source": [
        "training.marital_status.value_counts()"
      ],
      "execution_count": null,
      "outputs": []
    },
    {
      "cell_type": "markdown",
      "metadata": {
        "id": "aJ5fooedOv2R"
      },
      "source": [
        "#####ooccupation"
      ]
    },
    {
      "cell_type": "code",
      "metadata": {
        "id": "-VZ4Y2o0re_u"
      },
      "source": [
        "training.ooccupation.value_counts()"
      ],
      "execution_count": null,
      "outputs": []
    },
    {
      "cell_type": "markdown",
      "metadata": {
        "id": "CHTdo3NAOx_L"
      },
      "source": [
        "#####relationship"
      ]
    },
    {
      "cell_type": "code",
      "metadata": {
        "id": "vB97afoHrflM"
      },
      "source": [
        "training.relationship.value_counts()"
      ],
      "execution_count": null,
      "outputs": []
    },
    {
      "cell_type": "markdown",
      "metadata": {
        "id": "Oj_5a1NvOyNI"
      },
      "source": [
        "#####sex"
      ]
    },
    {
      "cell_type": "code",
      "metadata": {
        "id": "d74SnM2YrgI7"
      },
      "source": [
        "training.sex.value_counts()"
      ],
      "execution_count": null,
      "outputs": []
    },
    {
      "cell_type": "markdown",
      "metadata": {
        "id": "UytH-BlTOyXh"
      },
      "source": [
        "#####native_country"
      ]
    },
    {
      "cell_type": "code",
      "metadata": {
        "id": "j8Y6db_wrgoa"
      },
      "source": [
        "training.native_country.value_counts()"
      ],
      "execution_count": null,
      "outputs": []
    },
    {
      "cell_type": "markdown",
      "metadata": {
        "id": "raqTBM7XOydg"
      },
      "source": [
        "#####target"
      ]
    },
    {
      "cell_type": "code",
      "metadata": {
        "id": "TWjWThxzrhE9"
      },
      "source": [
        "training.target.value_counts()"
      ],
      "execution_count": null,
      "outputs": []
    },
    {
      "cell_type": "markdown",
      "metadata": {
        "id": "Wqb1htGC7pZK"
      },
      "source": [
        "###**Data Visualization**"
      ]
    },
    {
      "cell_type": "markdown",
      "metadata": {
        "id": "7d1xW3Ik-4rc"
      },
      "source": [
        "Training Dataset Pair Plot Chart"
      ]
    },
    {
      "cell_type": "code",
      "metadata": {
        "id": "o9kaElUl-4c2"
      },
      "source": [
        "sns.pairplot(training.sample(1000), hue='target')\r\n",
        "plt.title('Traning DataSet')\r\n",
        "plt.show()"
      ],
      "execution_count": null,
      "outputs": []
    },
    {
      "cell_type": "markdown",
      "metadata": {
        "id": "VYpJWDxg_GTc"
      },
      "source": [
        "- Plotting pairwise relationships in the training dataset\r\n",
        "- With excluding the ‘target’ (income) as a hue"
      ]
    },
    {
      "cell_type": "markdown",
      "metadata": {
        "id": "5zYGKm6L_W4f"
      },
      "source": [
        "Differentiations of Income Based on Gender"
      ]
    },
    {
      "cell_type": "code",
      "metadata": {
        "id": "lyK64NNz_WSp"
      },
      "source": [
        "fig=plt.figure(figsize=(5,5))\r\n",
        "sns.countplot(data=training, x='target', hue='sex')\r\n",
        "plt.title('Income per Sex')\r\n",
        "plt.show()"
      ],
      "execution_count": null,
      "outputs": []
    },
    {
      "cell_type": "markdown",
      "metadata": {
        "id": "c9jRX01H_Y9t"
      },
      "source": [
        "As it’s shown in the chart,\r\n",
        "- The majority of the workers are males, and they are representing the majority of both income’s categories.\r\n",
        "- The majority of the workers (and the most of the females), are getting an income for <=50 a year."
      ]
    },
    {
      "cell_type": "code",
      "metadata": {
        "id": "8B33v7R7a8r_"
      },
      "source": [
        "fig=plt.figure(figsize=(20,5))\r\n",
        "sns.countplot(data=training,x='education',hue='target')\r\n",
        "plt.legend(loc='upper right')\r\n",
        "plt.show()"
      ],
      "execution_count": null,
      "outputs": []
    },
    {
      "cell_type": "markdown",
      "metadata": {
        "id": "HxZk4umUBaHL"
      },
      "source": [
        "Relationship between Income and Working-hours"
      ]
    },
    {
      "cell_type": "code",
      "metadata": {
        "id": "_4rrIU8GBaXt"
      },
      "source": [
        "fig=plt.figure(figsize=(20,5))\r\n",
        "sns.lineplot(x=\"age\", y=\"hours_per_week\",hue=\"target\", data=training)\r\n",
        "\r\n",
        "plt.title('Income rate for Income and Working-hours')\r\n",
        "plt.legend(loc='upper right')\r\n",
        "plt.show()"
      ],
      "execution_count": null,
      "outputs": []
    },
    {
      "cell_type": "markdown",
      "metadata": {
        "id": "zGjTdE8UBm9C"
      },
      "source": [
        "**There are many insights can be found in this chart such as:**\r\n",
        "- More working-hours = more income \r\n",
        "- Workers with high income work more than 40hrs a week, and they start to work fewer hours at the age of 60. Also, less-income-workers work less than 40hrs a week.\r\n",
        "- Something strange about the workers, regarding how they are working for longer hours in their 80’s than they start-working ages, and even longer than the hours of the less-income-workers as well. "
      ]
    },
    {
      "cell_type": "markdown",
      "metadata": {
        "id": "O-8hMlccB2vs"
      },
      "source": [
        "Relationship between Income and Workers’ Occupation"
      ]
    },
    {
      "cell_type": "code",
      "metadata": {
        "id": "oFNDxKy2B3ab"
      },
      "source": [
        "fig=plt.figure(figsize=(20,5))\r\n",
        "sns.countplot(y='ooccupation',hue='target',data=training)\r\n",
        "plt.title(\"Target by occupation\")\r\n",
        "plt.show()"
      ],
      "execution_count": null,
      "outputs": []
    },
    {
      "cell_type": "markdown",
      "metadata": {
        "id": "34gqgM9wB34i"
      },
      "source": [
        "**The clearest insights that can be seen from this chart are:**\r\n",
        "\r\n",
        "- Eexec-managerial and Prof-specialty workers are usually having a high income.\r\n",
        "- Adm-clerical, craft-repair, other-service workers are usually having less income.\r\n",
        "- Haigh armed forces and priv-house-serv workers are usually having the lowest income among all the other workers."
      ]
    },
    {
      "cell_type": "markdown",
      "metadata": {
        "id": "DWHgOLsOC-wd"
      },
      "source": [
        "High Income by Occupation"
      ]
    },
    {
      "cell_type": "markdown",
      "metadata": {
        "id": "Z5vSaBTNDwDi"
      },
      "source": [
        "First we get the dummy of target column"
      ]
    },
    {
      "cell_type": "code",
      "metadata": {
        "id": "B9DdLoOlDyyv"
      },
      "source": [
        "target_d=pd.get_dummies(training.target)\r\n"
      ],
      "execution_count": null,
      "outputs": []
    },
    {
      "cell_type": "code",
      "metadata": {
        "id": "tsMM28zZD2KE"
      },
      "source": [
        "target_d"
      ],
      "execution_count": null,
      "outputs": []
    },
    {
      "cell_type": "markdown",
      "metadata": {
        "id": "wCxpuS7DEAtg"
      },
      "source": [
        "Then we add it to a new dataframe so we can get the pivot table"
      ]
    },
    {
      "cell_type": "code",
      "metadata": {
        "id": "2WghW3ojD9wB"
      },
      "source": [
        "df=pd.DataFrame(training)\r\n",
        "df['<=50K']=target_d['<=50K']\r\n",
        "df['>50K']=target_d['>50K']"
      ],
      "execution_count": null,
      "outputs": []
    },
    {
      "cell_type": "code",
      "metadata": {
        "id": "XlLnHfalEISq"
      },
      "source": [
        "col=['<=50K','>50K']\r\n",
        "training.drop(columns=col,axis=1,inplace=True)"
      ],
      "execution_count": null,
      "outputs": []
    },
    {
      "cell_type": "markdown",
      "metadata": {
        "id": "1y2F-sQtEkCL"
      },
      "source": [
        "We create the pivot table"
      ]
    },
    {
      "cell_type": "code",
      "metadata": {
        "id": "06XABn0eEjaf"
      },
      "source": [
        "dfpO=df.pivot_table(index='ooccupation',aggfunc='mean',values=['<=50K','>50K'])\r\n",
        "dfpO"
      ],
      "execution_count": null,
      "outputs": []
    },
    {
      "cell_type": "code",
      "metadata": {
        "id": "JecWyPL4EtLk"
      },
      "source": [
        "sorted_m50kO=dfpO.sort_values(['>50K'],ascending=False).index\r\n",
        "sorted_m50kO"
      ],
      "execution_count": null,
      "outputs": []
    },
    {
      "cell_type": "code",
      "metadata": {
        "id": "047A0O6-Es_-"
      },
      "source": [
        "sorted_l50kO=dfpO.sort_values(['<=50K'],ascending=False).index\r\n",
        "sorted_l50kO"
      ],
      "execution_count": null,
      "outputs": []
    },
    {
      "cell_type": "code",
      "metadata": {
        "id": "e4U04G0BC_Nt"
      },
      "source": [
        "fig=plt.figure(figsize=(20,5))\r\n",
        "sns.barplot(y=dfpO.index,x=dfpO['>50K'], order=sorted_m50kO)\r\n",
        "plt.title('High Income rate occopation')\r\n",
        "plt.show()"
      ],
      "execution_count": null,
      "outputs": []
    },
    {
      "cell_type": "markdown",
      "metadata": {
        "id": "MDwguXJmC_rW"
      },
      "source": [
        "- Eexec-managerial and Prof-specialty workers are usually having a high income "
      ]
    },
    {
      "cell_type": "markdown",
      "metadata": {
        "id": "j3BXmkGVFCAa"
      },
      "source": [
        "Low Income rate per occpoation"
      ]
    },
    {
      "cell_type": "code",
      "metadata": {
        "id": "5Z7Mb3bhFChE"
      },
      "source": [
        "fig=plt.figure(figsize=(20,5))\r\n",
        "sns.barplot(y=dfpO.index,x=dfpO['<=50K'], order=sorted_l50kO)\r\n",
        "plt.title('low Income rate per occopation')\r\n",
        "plt.show()"
      ],
      "execution_count": null,
      "outputs": []
    },
    {
      "cell_type": "markdown",
      "metadata": {
        "id": "w35kMX0iFDF3"
      },
      "source": [
        "- Adm-clerical, craft-repair, other-service workers are usually having less income.\r\n",
        "- Haigh armed forces and priv-house-serv workers are usually having the lowest income among all the other workers"
      ]
    },
    {
      "cell_type": "markdown",
      "metadata": {
        "id": "wdtrrXYiSOv0"
      },
      "source": [
        "How Income is effected by the education level"
      ]
    },
    {
      "cell_type": "markdown",
      "metadata": {
        "id": "l9hfXWSqEX3x"
      },
      "source": [
        "We create a pivot table"
      ]
    },
    {
      "cell_type": "code",
      "metadata": {
        "id": "nEL0yvVA_AKC"
      },
      "source": [
        "dfp=df.pivot_table(index='education',aggfunc='mean',values=['<=50K','>50K'])"
      ],
      "execution_count": null,
      "outputs": []
    },
    {
      "cell_type": "code",
      "metadata": {
        "id": "jNr-CSGTAFy-"
      },
      "source": [
        "dfp"
      ],
      "execution_count": null,
      "outputs": []
    },
    {
      "cell_type": "markdown",
      "metadata": {
        "id": "beEkibMMq83z"
      },
      "source": [
        "We should sort values for good visualization"
      ]
    },
    {
      "cell_type": "code",
      "metadata": {
        "id": "-9maNSUh_Tm0"
      },
      "source": [
        "sorted_m50k=dfp.sort_values(['>50K'],ascending=False).index\r\n",
        "sorted_m50k"
      ],
      "execution_count": null,
      "outputs": []
    },
    {
      "cell_type": "markdown",
      "metadata": {
        "id": "iCKeMvXerDju"
      },
      "source": [
        "Here we visualize the High income rate per education level."
      ]
    },
    {
      "cell_type": "code",
      "metadata": {
        "id": "8wlgPuxt_uPs"
      },
      "source": [
        "fig=plt.figure(figsize=(20,5))\r\n",
        "sns.barplot(y=dfp.index,x=dfp['>50K'], order=sorted_m50k)\r\n",
        "plt.title('High Income rate per education level')\r\n",
        "plt.show()"
      ],
      "execution_count": null,
      "outputs": []
    },
    {
      "cell_type": "markdown",
      "metadata": {
        "id": "3FlHgU9OrPoR"
      },
      "source": [
        "In the above chart you can see what education level have the highest probability to have high income (more than 50K $)"
      ]
    },
    {
      "cell_type": "markdown",
      "metadata": {
        "id": "ksrgrym2rjFS"
      },
      "source": [
        "We do the same process to get result of low income rate"
      ]
    },
    {
      "cell_type": "code",
      "metadata": {
        "id": "ttxRAp3qmsCu"
      },
      "source": [
        "sorted_l50k=dfp.sort_values(['<=50K'],ascending=False).index\r\n",
        "sorted_l50k"
      ],
      "execution_count": null,
      "outputs": []
    },
    {
      "cell_type": "code",
      "metadata": {
        "id": "eIoUpP7QmzlQ"
      },
      "source": [
        "fig=plt.figure(figsize=(20,5))\r\n",
        "sns.barplot(y=dfp.index,x=dfp['<=50K'], order=sorted_l50k)\r\n",
        "plt.title('Low Income rate per education level')\r\n",
        "plt.show()"
      ],
      "execution_count": null,
      "outputs": []
    },
    {
      "cell_type": "markdown",
      "metadata": {
        "id": "OMhflX4sr1L3"
      },
      "source": [
        "It is obvious in the above chart that as people have low level of education they are most likely to have low income rate (less than 50K $)"
      ]
    },
    {
      "cell_type": "markdown",
      "metadata": {
        "id": "BY9a5vr8SOnU"
      },
      "source": [
        "Income relatiionship with Capital Gain and Capital Loss"
      ]
    },
    {
      "cell_type": "code",
      "metadata": {
        "id": "Jzf5Lmd0sCvV"
      },
      "source": [
        "fig=plt.figure(figsize=(20,5))\r\n",
        "\r\n",
        "sns.scatterplot(data=training, x='capital_gain',y='capital_loss',hue='target')\r\n",
        "\r\n",
        "plt.title('Income rate per capital gain/loss')\r\n",
        "plt.legend(loc='upper right')\r\n",
        "plt.show()"
      ],
      "execution_count": null,
      "outputs": []
    },
    {
      "cell_type": "markdown",
      "metadata": {
        "id": "cbyrBB4Ao6yw"
      },
      "source": [
        "There are some interesting points regarding this chart:\r\n",
        "- Some of people who making only capital loss have high income!\r\n",
        "- There are people who have a huge capital gain with more than 30,000 $ and still considered as they have few income in the dataset. That is not consist and not logic.\r\n",
        "- It is noticable that there is an outlier in the capital gain so we will check for all outliers"
      ]
    },
    {
      "cell_type": "markdown",
      "metadata": {
        "id": "7LAUjWgBSOei"
      },
      "source": [
        "Is there any outlier?"
      ]
    },
    {
      "cell_type": "code",
      "metadata": {
        "id": "eaupC94g_71F"
      },
      "source": [
        "fig=plt.figure(figsize=(10,7))\r\n",
        "sns.boxplot(data=training)\r\n",
        "plt.show()"
      ],
      "execution_count": null,
      "outputs": []
    },
    {
      "cell_type": "markdown",
      "metadata": {
        "id": "GKwBdOaFoiys"
      },
      "source": [
        "As seen, \"fnlwgt\" and \"capital_gain\" features have outliers and we should remove them in the next stage (Data Preperation)"
      ]
    },
    {
      "cell_type": "markdown",
      "metadata": {
        "id": "VaxvI-WG5d9S"
      },
      "source": [
        "#**Data Preperation**"
      ]
    },
    {
      "cell_type": "markdown",
      "metadata": {
        "id": "C5qF9kjyKVQy"
      },
      "source": [
        "###**Data Cleansing**"
      ]
    },
    {
      "cell_type": "markdown",
      "metadata": {
        "id": "FQb2T3zPKa-C"
      },
      "source": [
        "####**Removing outliers**"
      ]
    },
    {
      "cell_type": "code",
      "metadata": {
        "id": "7Q_adfbnKVxf"
      },
      "source": [
        "training=training[(training['fnlwgt']<training['fnlwgt'].quantile(.95))&(training['capital_gain']<training['capital_gain'].quantile(.95))]"
      ],
      "execution_count": null,
      "outputs": []
    },
    {
      "cell_type": "code",
      "metadata": {
        "id": "Hhp8n1GJKjoW"
      },
      "source": [
        "fig=plt.figure(figsize=(15,7))\r\n",
        "sns.boxplot(data=training)\r\n",
        "plt.show()"
      ],
      "execution_count": null,
      "outputs": []
    },
    {
      "cell_type": "code",
      "metadata": {
        "id": "Y4kgYsJ1KuF9"
      },
      "source": [
        "training.isnull().sum()"
      ],
      "execution_count": null,
      "outputs": []
    },
    {
      "cell_type": "markdown",
      "metadata": {
        "id": "UhNR63--LFVU"
      },
      "source": [
        "####**Removing inconsistent‏ features**\r\n"
      ]
    },
    {
      "cell_type": "markdown",
      "metadata": {
        "id": "WA25O3IjLiJV"
      },
      "source": [
        "We have inconsistent‏ data from three features. These are :\r\n",
        "- \"Workclass\"\r\n",
        "- \"ooccupation\"\r\n",
        "- \"Native_country\"\r\n"
      ]
    },
    {
      "cell_type": "code",
      "metadata": {
        "id": "HQ8QmEARMpJQ"
      },
      "source": [
        "training=training[training['workclass']!=' ?']\r\n",
        "training=training[training['ooccupation']!=' ?']\r\n",
        "training=training[(training['native_country']!=' ?') & (training['native_country']!= ' Holand-Netherlands' )]"
      ],
      "execution_count": null,
      "outputs": []
    },
    {
      "cell_type": "markdown",
      "metadata": {
        "id": "hpBafVD6PGGU"
      },
      "source": [
        "now we check the data are they removed or not?"
      ]
    },
    {
      "cell_type": "code",
      "metadata": {
        "id": "vpqJKO5LN4SD"
      },
      "source": [
        "training.native_country.value_counts()"
      ],
      "execution_count": null,
      "outputs": []
    },
    {
      "cell_type": "markdown",
      "metadata": {
        "id": "GUpbSvx-YV9C"
      },
      "source": [
        "####**Replacing the Target values to (1,0)**"
      ]
    },
    {
      "cell_type": "code",
      "metadata": {
        "id": "8ke2QTpWY1n8"
      },
      "source": [
        "training[\"target\"] = training[\"target\"].replace(['<=50K','>50K'],(1,0))\r\n",
        "test[\"target\"] = test[\"target\"].replace(['<=50K','>50K'],(1,0))"
      ],
      "execution_count": null,
      "outputs": []
    },
    {
      "cell_type": "markdown",
      "metadata": {
        "id": "_aiVrUyPTZK6"
      },
      "source": [
        "####**Cleaning the Test dataset to fit it into the model**"
      ]
    },
    {
      "cell_type": "markdown",
      "metadata": {
        "id": "yNQ4o6H_Vh-x"
      },
      "source": [
        "#####**Explorating Data**"
      ]
    },
    {
      "cell_type": "code",
      "metadata": {
        "id": "i5vNnWlAUKDN"
      },
      "source": [
        "test.isnull().sum()"
      ],
      "execution_count": null,
      "outputs": []
    },
    {
      "cell_type": "code",
      "metadata": {
        "id": "p3hcWWWYUe1J"
      },
      "source": [
        "test.workclass.value_counts()"
      ],
      "execution_count": null,
      "outputs": []
    },
    {
      "cell_type": "code",
      "metadata": {
        "id": "Mrwyxyc8UdzV"
      },
      "source": [
        "test.ooccupation.value_counts()"
      ],
      "execution_count": null,
      "outputs": []
    },
    {
      "cell_type": "code",
      "metadata": {
        "id": "mFFAX7lrUQBw"
      },
      "source": [
        "test.native_country.value_counts()"
      ],
      "execution_count": null,
      "outputs": []
    },
    {
      "cell_type": "markdown",
      "metadata": {
        "id": "q_5ecWanWF1w"
      },
      "source": [
        "#####**Removing outliers**"
      ]
    },
    {
      "cell_type": "code",
      "metadata": {
        "id": "MRU4LOGKWF1x"
      },
      "source": [
        "test=test[(test['fnlwgt']<test['fnlwgt'].quantile(.95))&(test['capital_gain']<test['capital_gain'].quantile(.95))]"
      ],
      "execution_count": null,
      "outputs": []
    },
    {
      "cell_type": "code",
      "metadata": {
        "id": "zePkXnykWF1x"
      },
      "source": [
        "fig=plt.figure(figsize=(15,7))\r\n",
        "sns.boxplot(data=test)\r\n",
        "plt.show()"
      ],
      "execution_count": null,
      "outputs": []
    },
    {
      "cell_type": "code",
      "metadata": {
        "id": "F1Y-UoDVWF1x"
      },
      "source": [
        "training.isnull().sum()"
      ],
      "execution_count": null,
      "outputs": []
    },
    {
      "cell_type": "markdown",
      "metadata": {
        "id": "ZGsMfOoPVNP2"
      },
      "source": [
        "#####**Removing inconsistent‏ features**\r\n"
      ]
    },
    {
      "cell_type": "markdown",
      "metadata": {
        "id": "C2TN8ZrjVNP2"
      },
      "source": [
        "We have inconsistent‏ data from three features. These are :\r\n",
        "- \"Workclass\"\r\n",
        "- \"ooccupation\"\r\n",
        "- \"Native_country\"\r\n"
      ]
    },
    {
      "cell_type": "code",
      "metadata": {
        "id": "XI11xtMvVNP4"
      },
      "source": [
        "test=test[test['workclass']!=' ?']\r\n",
        "test=test[test['ooccupation']!=' ?']\r\n",
        "test=test[(test['native_country']!=' ?') & (test['native_country']!= ' Holand-Netherlands' )]"
      ],
      "execution_count": null,
      "outputs": []
    },
    {
      "cell_type": "markdown",
      "metadata": {
        "id": "VmLnUiJlVNP4"
      },
      "source": [
        "now we check the data are they removed or not?"
      ]
    },
    {
      "cell_type": "code",
      "metadata": {
        "id": "X0ZHf9FfVNP5"
      },
      "source": [
        "test.native_country.value_counts()"
      ],
      "execution_count": null,
      "outputs": []
    },
    {
      "cell_type": "markdown",
      "metadata": {
        "id": "TEyQiegSJ5-I"
      },
      "source": [
        "###**Features Extraction**"
      ]
    },
    {
      "cell_type": "markdown",
      "metadata": {
        "id": "rZAVF-Mp7nK_"
      },
      "source": [
        "We will add two features as we believe that will increase model scores"
      ]
    },
    {
      "cell_type": "markdown",
      "metadata": {
        "id": "cFhBXKzdgp0Y"
      },
      "source": [
        "Adding a new feature - Age Category"
      ]
    },
    {
      "cell_type": "code",
      "metadata": {
        "id": "6YlrSDkZduwJ"
      },
      "source": [
        "training.loc[training['age']<=35,'Age Category']='young'\r\n",
        "training.loc[(training['age']>35) & (training['age']<=60),'Age Category']='mature'\r\n",
        "training.loc[training['age']>60,'Age Category']='old'"
      ],
      "execution_count": null,
      "outputs": []
    },
    {
      "cell_type": "code",
      "metadata": {
        "id": "kvmPxbV8f7JV"
      },
      "source": [
        "training.sample(5)"
      ],
      "execution_count": null,
      "outputs": []
    },
    {
      "cell_type": "code",
      "metadata": {
        "id": "-qxTW7cWLyVt"
      },
      "source": [
        "fig=plt.figure(figsize=(10,5))\r\n",
        "sns.countplot(data=training,x='Age Category',hue='target')\r\n",
        "plt.show()"
      ],
      "execution_count": null,
      "outputs": []
    },
    {
      "cell_type": "markdown",
      "metadata": {
        "id": "MpCJdvQ37j-F"
      },
      "source": [
        "As seen in the previous chart, young people are more likely to have low income. That is sence as usually people at the begining of their lives focus more on studying rather than having a job.\r\n",
        "\r\n",
        "In addition, it seems there is a correlation between our new feature and the target and that might increase the model score"
      ]
    },
    {
      "cell_type": "markdown",
      "metadata": {
        "id": "rUru6IHngbza"
      },
      "source": [
        "Adding a new feature - Education Category"
      ]
    },
    {
      "cell_type": "code",
      "metadata": {
        "id": "vzHK41n_gZlp"
      },
      "source": [
        "training.loc[(training['education']==' 1st-4th')|\r\n",
        "             (training['education']==' 5th-6th')|\r\n",
        "             (training['education']==' 7th-8th')|\r\n",
        "             (training['education']==' 9th')|\r\n",
        "             (training['education']==' 10th')|\r\n",
        "             (training['education']==' 11th')|\r\n",
        "             (training['education']==' 12th')|\r\n",
        "             (training['education']==' HS-grad')|\r\n",
        "             (training['education']==' Preschool'),'Education Category']='general education'\r\n",
        "\r\n",
        "training.loc[(training['education']==' Bachelors')|\r\n",
        "             (training['education']==' Assoc-acdm')|\r\n",
        "             (training['education']==' Assoc-voc')|\r\n",
        "             (training['education']==' Some-college'),'Education Category']='undergraduate'\r\n",
        "\r\n",
        "\r\n",
        "\r\n",
        "training.loc[(training['education']==' Masters')|\r\n",
        "             (training['education']==' Prof-school')|\r\n",
        "             (training['education']==' Doctorate'),'Education Category']='postgraduate'"
      ],
      "execution_count": null,
      "outputs": []
    },
    {
      "cell_type": "code",
      "metadata": {
        "id": "9vrCpsxrmacZ"
      },
      "source": [
        "training.sample(3)"
      ],
      "execution_count": null,
      "outputs": []
    },
    {
      "cell_type": "code",
      "metadata": {
        "id": "onF8g06-tRcI"
      },
      "source": [
        "fig=plt.figure(figsize=(10,5))\r\n",
        "sns.countplot(data=training,x='Education Category',hue='target')\r\n",
        "plt.show()"
      ],
      "execution_count": null,
      "outputs": []
    },
    {
      "cell_type": "markdown",
      "metadata": {
        "id": "_JBSRTZ48nSi"
      },
      "source": [
        "In the above chart it is shown how the new feature is correlated with the target.\r\n",
        "\r\n",
        "Usually postgraduate people have high level jobs and their income is much higher than what undergraduate and general education people have."
      ]
    },
    {
      "cell_type": "code",
      "metadata": {
        "id": "V9c133ZRWmC3"
      },
      "source": [
        ""
      ],
      "execution_count": null,
      "outputs": []
    },
    {
      "cell_type": "markdown",
      "metadata": {
        "id": "c2d1QMJ0Wmnc"
      },
      "source": [
        "####**Test Features Extraction**"
      ]
    },
    {
      "cell_type": "markdown",
      "metadata": {
        "id": "zz5gZ3weWmnd"
      },
      "source": [
        "We will add two features in Test dataset so there will be no confilct in the model"
      ]
    },
    {
      "cell_type": "markdown",
      "metadata": {
        "id": "TTCp5xyoWmne"
      },
      "source": [
        "Adding a new feature - Age Category"
      ]
    },
    {
      "cell_type": "code",
      "metadata": {
        "id": "OnMw_lgJWmne"
      },
      "source": [
        "test.loc[test['age']<=35,'Age Category']='young'\r\n",
        "test.loc[(test['age']>35) & (test['age']<=60),'Age Category']='mature'\r\n",
        "test.loc[test['age']>60,'Age Category']='old'"
      ],
      "execution_count": null,
      "outputs": []
    },
    {
      "cell_type": "code",
      "metadata": {
        "id": "afp6cbZgWmnf"
      },
      "source": [
        "test.sample(5)"
      ],
      "execution_count": null,
      "outputs": []
    },
    {
      "cell_type": "markdown",
      "metadata": {
        "id": "NYD5iqZdWmnk"
      },
      "source": [
        "Adding a new feature - Education Category"
      ]
    },
    {
      "cell_type": "code",
      "metadata": {
        "id": "qFClWEkXWmnk"
      },
      "source": [
        "test.loc[(test['education']==' 1st-4th')|\r\n",
        "             (test['education']==' 5th-6th')|\r\n",
        "             (test['education']==' 7th-8th')|\r\n",
        "             (test['education']==' 9th')|\r\n",
        "             (test['education']==' 10th')|\r\n",
        "             (test['education']==' 11th')|\r\n",
        "             (test['education']==' 12th')|\r\n",
        "             (test['education']==' HS-grad')|\r\n",
        "             (test['education']==' Preschool'),'Education Category']='general education'\r\n",
        "\r\n",
        "test.loc[(test['education']==' Bachelors')|\r\n",
        "             (test['education']==' Assoc-acdm')|\r\n",
        "             (test['education']==' Assoc-voc')|\r\n",
        "             (test['education']==' Some-college'),'Education Category']='undergraduate'\r\n",
        "\r\n",
        "\r\n",
        "\r\n",
        "test.loc[(test['education']==' Masters')|\r\n",
        "             (test['education']==' Prof-school')|\r\n",
        "             (test['education']==' Doctorate'),'Education Category']='postgraduate'"
      ],
      "execution_count": null,
      "outputs": []
    },
    {
      "cell_type": "code",
      "metadata": {
        "id": "fKon6KzxWmnk"
      },
      "source": [
        "test.sample(5)"
      ],
      "execution_count": null,
      "outputs": []
    },
    {
      "cell_type": "markdown",
      "metadata": {
        "id": "MYAMyJfc8k9P"
      },
      "source": [
        "###**Categorical Encoding (Getting Dummies)**"
      ]
    },
    {
      "cell_type": "markdown",
      "metadata": {
        "id": "QsVzhL1RPlhi"
      },
      "source": [
        "Here we get the dummy of our data"
      ]
    },
    {
      "cell_type": "code",
      "metadata": {
        "id": "4_UjECENP37p"
      },
      "source": [
        "training=pd.get_dummies(data=training)\r\n",
        "test=pd.get_dummies(data=test)"
      ],
      "execution_count": null,
      "outputs": []
    },
    {
      "cell_type": "markdown",
      "metadata": {
        "id": "ryG9zI5VJwJw"
      },
      "source": [
        "##**Dataset spliting**"
      ]
    },
    {
      "cell_type": "markdown",
      "metadata": {
        "id": "Iq0XutQnwYq0"
      },
      "source": [
        "This is the spliting from the given starter code"
      ]
    },
    {
      "cell_type": "code",
      "metadata": {
        "id": "xAjbvVPFJ44M"
      },
      "source": [
        "# Create Train\r\n",
        "X_train = training.drop(\"target\", axis=1)\r\n",
        "y_train = training[\"target\"]\r\n",
        "\r\n",
        "# Create Test\r\n",
        "X_test = test.drop(\"target\", axis=1)\r\n",
        "y_test = test[\"target\"]\r\n"
      ],
      "execution_count": null,
      "outputs": []
    },
    {
      "cell_type": "markdown",
      "metadata": {
        "id": "j-f1T9hxw02d"
      },
      "source": [
        "Here we will check if the given spliting is suitable or not for our models."
      ]
    },
    {
      "cell_type": "markdown",
      "metadata": {
        "id": "uOFSGTXzp5uB"
      },
      "source": [
        "Identefing features correlation"
      ]
    },
    {
      "cell_type": "code",
      "metadata": {
        "id": "7d99UYe8pzXG"
      },
      "source": [
        "corr=training.corr()\r\n"
      ],
      "execution_count": null,
      "outputs": []
    },
    {
      "cell_type": "code",
      "metadata": {
        "id": "9_RA8bEIuX4r"
      },
      "source": [
        "corr.style.background_gradient(cmap='coolwarm')"
      ],
      "execution_count": null,
      "outputs": []
    },
    {
      "cell_type": "code",
      "metadata": {
        "id": "JaxyW2N6rz3Q"
      },
      "source": [
        "extracted_features=pd.Series(corr[(corr['target']>=0.2)|(corr['target']<=-0.2)].index)"
      ],
      "execution_count": null,
      "outputs": []
    },
    {
      "cell_type": "code",
      "metadata": {
        "id": "LshaAgV5uobL"
      },
      "source": [
        "extracted_features"
      ],
      "execution_count": null,
      "outputs": []
    },
    {
      "cell_type": "code",
      "metadata": {
        "id": "6HUkck_2uzDL"
      },
      "source": [
        "X_train=training.loc[:,(extracted_features)]\r\n",
        "X_train.drop('target',axis=1,inplace=True)\r\n",
        "\r\n",
        "X_test=test.loc[:,(extracted_features)]\r\n",
        "X_test.drop('target',axis=1,inplace=True)"
      ],
      "execution_count": null,
      "outputs": []
    },
    {
      "cell_type": "code",
      "metadata": {
        "id": "020hh09bu8bv"
      },
      "source": [
        "X_train"
      ],
      "execution_count": null,
      "outputs": []
    },
    {
      "cell_type": "markdown",
      "metadata": {
        "id": "WKBq_tvaVZaT"
      },
      "source": [
        "#**Data Modeling**"
      ]
    },
    {
      "cell_type": "markdown",
      "metadata": {
        "id": "Y7uSkNUSVZaV"
      },
      "source": [
        "###**Model Selection**"
      ]
    },
    {
      "cell_type": "markdown",
      "metadata": {
        "id": "JXpdtjO6VZaX"
      },
      "source": [
        "#### Here we will list all models and clarify what type of models is more sutiable for our dataset."
      ]
    },
    {
      "cell_type": "markdown",
      "metadata": {
        "id": "T9DycQHCVZaZ"
      },
      "source": [
        "####**Baseline**"
      ]
    },
    {
      "cell_type": "code",
      "metadata": {
        "id": "9OhYAf2HVZaZ"
      },
      "source": [
        "def baseline_model(n_predictions, value_to_predict):\r\n",
        "    baseline_preds = []\r\n",
        "    for i in range(n_predictions):\r\n",
        "        baseline_preds.append(value_to_predict)\r\n",
        "    return pd.Series(baseline_preds)\r\n",
        "\r\n",
        "n_predictions = len(y_test)\r\n",
        "baseline_value = y_train.value_counts().index[0]\r\n",
        "\r\n",
        "baseline_preds = baseline_model(n_predictions, baseline_value)\r\n",
        "baseline_preds"
      ],
      "execution_count": null,
      "outputs": []
    },
    {
      "cell_type": "code",
      "metadata": {
        "id": "ei7LDfQD9XYm"
      },
      "source": [
        "bl_acc = accuracy_score(y_test , baseline_preds)\n",
        "print('BaseLine Accurecy Score = ' , bl_acc)"
      ],
      "execution_count": null,
      "outputs": []
    },
    {
      "cell_type": "code",
      "metadata": {
        "id": "OM9p4IKG8vlh"
      },
      "source": [
        "cf = confusion_matrix(y_test, baseline_preds)\n",
        "group_names = ['TP','FP','FN','TN']\n",
        "group_counts = ['{0:0.0f}'.format(value) for value in cf.flatten()]\n",
        "group_percentages = ['{0:.2%}'.format(value) for value in cf.flatten()/np.sum(cf)]\n",
        "labels = [f'{v1}\\n{v2}\\n{v3}' for v1, v2, v3 in zip(group_names,group_counts,group_percentages)]\n",
        "labels = np.asarray(labels).reshape(2,2)\n",
        "ticks_labels = ['A', 'B']\n",
        "\n",
        "plt.figure(figsize=(5,5))\n",
        "sns.heatmap(cf, annot=labels, fmt='', cmap='Pastel2', yticklabels=ticks_labels , xticklabels= ticks_labels);\n",
        "plt.title(\"Baseline\")\n",
        "plt.ylabel('Actual')\n",
        "plt.xlabel('Predicted')\n",
        "sns.set(font_scale=1);"
      ],
      "execution_count": null,
      "outputs": []
    },
    {
      "cell_type": "markdown",
      "metadata": {
        "id": "P3UATCvnVZaf"
      },
      "source": [
        "####**StandardScaler Model**"
      ]
    },
    {
      "cell_type": "code",
      "metadata": {
        "id": "hESnXlLQVZah"
      },
      "source": [
        "# standrd = StandardScaler()\r\n",
        "# training = standrd.fit_transform(training)\r\n",
        "# # training\r\n",
        "\r\n",
        "# test = standrd.fit_transform(test)\r\n",
        "# # test"
      ],
      "execution_count": null,
      "outputs": []
    },
    {
      "cell_type": "markdown",
      "metadata": {
        "id": "thqvQUEJVZai"
      },
      "source": [
        "####**Logistic Regression Model**"
      ]
    },
    {
      "cell_type": "code",
      "metadata": {
        "id": "wVdoVC7kVZak"
      },
      "source": [
        "lr = LogisticRegression(max_iter=10000)"
      ],
      "execution_count": null,
      "outputs": []
    },
    {
      "cell_type": "code",
      "metadata": {
        "id": "ba2hqrH7VwcO"
      },
      "source": [
        "lr.fit(X_train, y_train)"
      ],
      "execution_count": null,
      "outputs": []
    },
    {
      "cell_type": "code",
      "metadata": {
        "id": "QHM-gthQVwVH"
      },
      "source": [
        "lr_preds1=lr.predict(X_test)"
      ],
      "execution_count": null,
      "outputs": []
    },
    {
      "cell_type": "code",
      "metadata": {
        "id": "xM1jYZdxNBfs"
      },
      "source": [
        "lr_acc1 = accuracy_score(y_test, lr_preds1)\n",
        "print('Logistic Regression Accurecy Score = ' , lr_acc1)"
      ],
      "execution_count": null,
      "outputs": []
    },
    {
      "cell_type": "code",
      "metadata": {
        "id": "TuNAOmTeDAe4"
      },
      "source": [
        "cf = confusion_matrix(y_test, lr_preds1)\n",
        "group_names = ['TP','FP','FN','TN']\n",
        "group_counts = ['{0:0.0f}'.format(value) for value in\n",
        "                cf.flatten()]\n",
        "group_percentages = ['{0:.2%}'.format(value) for value in cf.flatten()/np.sum(cf)]\n",
        "labels = [f'{v1}\\n{v2}\\n{v3}' for v1, v2, v3 in zip(group_names,group_counts,group_percentages)]\n",
        "labels = np.asarray(labels).reshape(2,2)\n",
        "ticks_labels = ['A', 'B']\n",
        "\n",
        "plt.figure(figsize=(5,5))\n",
        "sns.heatmap(cf, annot=labels, fmt='', cmap='Pastel2', yticklabels=ticks_labels , xticklabels= ticks_labels);\n",
        "plt.title(\"Logistic Regression\")\n",
        "plt.ylabel('Actual')\n",
        "plt.xlabel('Predicted')\n",
        "sns.set(font_scale=1);"
      ],
      "execution_count": null,
      "outputs": []
    },
    {
      "cell_type": "markdown",
      "metadata": {
        "id": "vCqrqus3VZao"
      },
      "source": [
        "####**SGD Classifier Model**"
      ]
    },
    {
      "cell_type": "code",
      "metadata": {
        "id": "lpJG9Eh5VZap"
      },
      "source": [
        "sgdc = SGDClassifier(max_iter=10000)"
      ],
      "execution_count": null,
      "outputs": []
    },
    {
      "cell_type": "code",
      "metadata": {
        "id": "a-ROY5noV32c"
      },
      "source": [
        "sgdc.fit(X_train, y_train)"
      ],
      "execution_count": null,
      "outputs": []
    },
    {
      "cell_type": "code",
      "metadata": {
        "id": "S-WqykkoV3yl"
      },
      "source": [
        "sgd_preds1=sgdc.predict(X_test)"
      ],
      "execution_count": null,
      "outputs": []
    },
    {
      "cell_type": "code",
      "metadata": {
        "id": "-ohXz-n3NGge"
      },
      "source": [
        "sgd_acc1 = accuracy_score(y_test, sgd_preds1)\n",
        "print('SGD Classifier Accurecy Score = ' , sgd_acc1)"
      ],
      "execution_count": null,
      "outputs": []
    },
    {
      "cell_type": "code",
      "metadata": {
        "id": "ilf9N-J3Dukl"
      },
      "source": [
        "cf = confusion_matrix(y_test, sgd_preds1)\n",
        "group_names = ['TP','FP','FN','TN']\n",
        "group_counts = ['{0:0.0f}'.format(value) for value in\n",
        "                cf.flatten()]\n",
        "group_percentages = ['{0:.2%}'.format(value) for value in cf.flatten()/np.sum(cf)]\n",
        "labels = [f'{v1}\\n{v2}\\n{v3}' for v1, v2, v3 in zip(group_names,group_counts,group_percentages)]\n",
        "labels = np.asarray(labels).reshape(2,2)\n",
        "ticks_labels = ['A', 'B']\n",
        "\n",
        "plt.figure(figsize=(5,5))\n",
        "sns.heatmap(cf, annot=labels, fmt='', cmap='Pastel2', yticklabels=ticks_labels , xticklabels= ticks_labels);\n",
        "plt.title(\"SGD Classifier\")\n",
        "plt.ylabel('Actual')\n",
        "plt.xlabel('Predicted')\n",
        "sns.set(font_scale=1);"
      ],
      "execution_count": null,
      "outputs": []
    },
    {
      "cell_type": "markdown",
      "metadata": {
        "id": "Uo6uZts9VZas"
      },
      "source": [
        "####**KNeighbors Classifier Model**"
      ]
    },
    {
      "cell_type": "code",
      "metadata": {
        "id": "Q4SLhyp2VZat"
      },
      "source": [
        "knn = KNeighborsClassifier(n_neighbors=3)"
      ],
      "execution_count": null,
      "outputs": []
    },
    {
      "cell_type": "code",
      "metadata": {
        "id": "cPtmdyijWArs"
      },
      "source": [
        "knn.fit(X_train, y_train)"
      ],
      "execution_count": null,
      "outputs": []
    },
    {
      "cell_type": "code",
      "metadata": {
        "id": "-58NYaZhWAiI"
      },
      "source": [
        "knn_perds1 = knn.predict(X_test)"
      ],
      "execution_count": null,
      "outputs": []
    },
    {
      "cell_type": "code",
      "metadata": {
        "id": "z42yqmIoNMT-"
      },
      "source": [
        "knn_acc1 = accuracy_score(y_test, knn_perds1)\n",
        "print('KNeighbors Classifier Accurecy Score = ' , knn_acc1)"
      ],
      "execution_count": null,
      "outputs": []
    },
    {
      "cell_type": "code",
      "metadata": {
        "id": "VtH6i0ZFEa-B"
      },
      "source": [
        "cf = confusion_matrix(y_test, knn_perds1)\n",
        "group_names = ['TP','FP','FN','TN']\n",
        "group_counts = ['{0:0.0f}'.format(value) for value in\n",
        "                cf.flatten()]\n",
        "group_percentages = ['{0:.2%}'.format(value) for value in cf.flatten()/np.sum(cf)]\n",
        "labels = [f'{v1}\\n{v2}\\n{v3}' for v1, v2, v3 in zip(group_names,group_counts,group_percentages)]\n",
        "labels = np.asarray(labels).reshape(2,2)\n",
        "ticks_labels = ['A', 'B']\n",
        "\n",
        "plt.figure(figsize=(5,5))\n",
        "sns.heatmap(cf, annot=labels, fmt='', cmap='Pastel2', yticklabels=ticks_labels , xticklabels= ticks_labels);\n",
        "plt.title(\"KNeighbors Classifier\")\n",
        "plt.ylabel('Actual')\n",
        "plt.xlabel('Predicted')\n",
        "sns.set(font_scale=1);"
      ],
      "execution_count": null,
      "outputs": []
    },
    {
      "cell_type": "markdown",
      "metadata": {
        "id": "UctiqPr7Fi19"
      },
      "source": [
        "####**Models Acuurecy Cmparisions**"
      ]
    },
    {
      "cell_type": "code",
      "metadata": {
        "id": "wX6KXnXHFj-j"
      },
      "source": [
        "pd.DataFrame([bl_acc, lr_acc1 , sgd_acc1, knn_acc1]).plot.bar()\n",
        "plt.xticks(np.arange(4),('Baseline','LogicReg','SGD','KNN'))\n",
        "plt.legend().remove()\n",
        "plt.ylim(0.6, 0.9)\n",
        "plt.annotate = True\n",
        "plt.ylabel('Accuracy')\n",
        "plt.xlabel('Model')\n",
        "plt.xticks(rotation = 0)\n",
        "plt.title('Comparing Model Accuracy');"
      ],
      "execution_count": null,
      "outputs": []
    },
    {
      "cell_type": "markdown",
      "metadata": {
        "id": "qxGlq30VItkL"
      },
      "source": [
        "**As we can see from the chart,**\n",
        "- The accurecy score of Baseline Model is"
      ]
    },
    {
      "cell_type": "code",
      "metadata": {
        "id": "jSSFTKYuNS6Q"
      },
      "source": [
        "bl_acc"
      ],
      "execution_count": null,
      "outputs": []
    },
    {
      "cell_type": "markdown",
      "metadata": {
        "id": "UBKuGHKDNdwl"
      },
      "source": [
        "- And all of our used models socres beated the Baseline score!"
      ]
    },
    {
      "cell_type": "code",
      "metadata": {
        "id": "c9IWhd6qNcyQ"
      },
      "source": [
        "print('Logistic Regression = ' , lr_acc1 ,  '\\nSGD = ',sgd_acc1, '\\nKNeighbors=', knn_acc1 )"
      ],
      "execution_count": null,
      "outputs": []
    },
    {
      "cell_type": "markdown",
      "metadata": {
        "id": "a-KNTmstO36x"
      },
      "source": [
        "- For our 1st predection, we noticed that the Logistic Regression accurecy score is the highest one.\n",
        "\n",
        "    So, we assumed that it is the most accurate model to go with but we will test that assumption by doing the optimaization part."
      ]
    },
    {
      "cell_type": "markdown",
      "metadata": {
        "id": "wPTi10YD6kDE"
      },
      "source": [
        "#**Model Optimization**"
      ]
    },
    {
      "cell_type": "markdown",
      "metadata": {
        "id": "1-S9wz-_BYxa"
      },
      "source": [
        "###**GridSearchCV**"
      ]
    },
    {
      "cell_type": "markdown",
      "metadata": {
        "id": "8k6zbkGSGrtk"
      },
      "source": [
        "####**Logistic Regression Model**"
      ]
    },
    {
      "cell_type": "code",
      "metadata": {
        "id": "Hfy76X-NyNd8"
      },
      "source": [
        "\r\n",
        "p_grid = {'fit_intercept': [True, False],\r\n",
        "          'penalty':['l1', 'l2', 'elasticnet'],\r\n",
        "          'multi_class':['auto', 'ovr', 'multinomial'],\r\n",
        "          'warm_start':[True,False]\r\n",
        "          \r\n",
        "\r\n",
        "}\r\n",
        "\r\n",
        "grid = GridSearchCV(lr, p_grid, cv=10,n_jobs=-1)"
      ],
      "execution_count": null,
      "outputs": []
    },
    {
      "cell_type": "code",
      "metadata": {
        "id": "lGk6fnlo0NBB"
      },
      "source": [
        "grid.fit(X_train, y_train)"
      ],
      "execution_count": null,
      "outputs": []
    },
    {
      "cell_type": "code",
      "metadata": {
        "id": "sQsBa0Cd0PfB"
      },
      "source": [
        "grid.best_params_"
      ],
      "execution_count": null,
      "outputs": []
    },
    {
      "cell_type": "code",
      "metadata": {
        "id": "-bUciuT0D07e"
      },
      "source": [
        "lr = LogisticRegression(max_iter=10000,\r\n",
        "                        fit_intercept= False,\r\n",
        "                        multi_class='auto',\r\n",
        "                        penalty='l2',\r\n",
        "                        warm_start= True)"
      ],
      "execution_count": null,
      "outputs": []
    },
    {
      "cell_type": "code",
      "metadata": {
        "id": "77SfrILtT-sH"
      },
      "source": [
        "lr.fit(X_train, y_train)"
      ],
      "execution_count": null,
      "outputs": []
    },
    {
      "cell_type": "code",
      "metadata": {
        "id": "aToq0JjaT-kH"
      },
      "source": [
        "lr_preds2=lr.predict(X_test)"
      ],
      "execution_count": null,
      "outputs": []
    },
    {
      "cell_type": "code",
      "metadata": {
        "id": "FChiRyN7T-c6"
      },
      "source": [
        "lr_acc2 = accuracy_score(y_test, lr_preds2)\r\n",
        "print('Logistic Regression Accurecy Score After GridSearchCV Optimization = ' , lr_acc2)"
      ],
      "execution_count": null,
      "outputs": []
    },
    {
      "cell_type": "code",
      "metadata": {
        "id": "LHnS4wakXc7I"
      },
      "source": [
        "cf = confusion_matrix(y_test, lr_preds2)\r\n",
        "group_names = ['TP','FP','FN','TN']\r\n",
        "group_counts = ['{0:0.0f}'.format(value) for value in\r\n",
        "                cf.flatten()]\r\n",
        "group_percentages = ['{0:.2%}'.format(value) for value in cf.flatten()/np.sum(cf)]\r\n",
        "labels = [f'{v1}\\n{v2}\\n{v3}' for v1, v2, v3 in zip(group_names,group_counts,group_percentages)]\r\n",
        "labels = np.asarray(labels).reshape(2,2)\r\n",
        "ticks_labels = ['A', 'B']\r\n",
        "\r\n",
        "plt.figure(figsize=(5,5))\r\n",
        "sns.heatmap(cf, annot=labels, fmt='', cmap='Pastel2', yticklabels=ticks_labels , xticklabels= ticks_labels);\r\n",
        "plt.title(\"Logistic Regression After GridSearchCV Optimization\")\r\n",
        "plt.ylabel('Actual')\r\n",
        "plt.xlabel('Predicted')\r\n",
        "sns.set(font_scale=1);"
      ],
      "execution_count": null,
      "outputs": []
    },
    {
      "cell_type": "markdown",
      "metadata": {
        "id": "CGthR4SqGbjL"
      },
      "source": [
        "####**SGD Classifier Model**"
      ]
    },
    {
      "cell_type": "code",
      "metadata": {
        "id": "MZIcoNwAG81A"
      },
      "source": [
        "p_grid = {'fit_intercept': [True, False],\r\n",
        "          'penalty':['l1', 'l2', 'elasticnet'],\r\n",
        "          \r\n",
        "\r\n",
        "}\r\n",
        "\r\n",
        "grid = GridSearchCV(sgdc, p_grid, cv=10,n_jobs=-1)"
      ],
      "execution_count": null,
      "outputs": []
    },
    {
      "cell_type": "code",
      "metadata": {
        "id": "_MUszK64G8p7"
      },
      "source": [
        "grid.fit(X_train, y_train)"
      ],
      "execution_count": null,
      "outputs": []
    },
    {
      "cell_type": "code",
      "metadata": {
        "id": "CqIE41NrHB8z"
      },
      "source": [
        "grid.best_params_"
      ],
      "execution_count": null,
      "outputs": []
    },
    {
      "cell_type": "code",
      "metadata": {
        "id": "f5boS4PHG8cr"
      },
      "source": [
        "sgdc = SGDClassifier(max_iter=10000,\r\n",
        "                     fit_intercept= False,\r\n",
        "                     penalty='elasticnet')"
      ],
      "execution_count": null,
      "outputs": []
    },
    {
      "cell_type": "code",
      "metadata": {
        "id": "Rqz5AeRFQJUj"
      },
      "source": [
        "sgdc.fit(X_train, y_train)"
      ],
      "execution_count": null,
      "outputs": []
    },
    {
      "cell_type": "code",
      "metadata": {
        "id": "PQVsxUu5QJMK"
      },
      "source": [
        "sgd_preds2=sgdc.predict(X_test)"
      ],
      "execution_count": null,
      "outputs": []
    },
    {
      "cell_type": "code",
      "metadata": {
        "id": "48t7U7R4QOT9"
      },
      "source": [
        "sgd_acc2 = accuracy_score(y_test, sgd_preds2)\r\n",
        "print('SGD Classifier Accurecy Score After GridSearchCV Optimization = ' , sgd_acc2)"
      ],
      "execution_count": null,
      "outputs": []
    },
    {
      "cell_type": "code",
      "metadata": {
        "id": "1qKY0ygqX_4U"
      },
      "source": [
        "cf = confusion_matrix(y_test, sgd_preds2)\r\n",
        "group_names = ['TP','FP','FN','TN']\r\n",
        "group_counts = ['{0:0.0f}'.format(value) for value in\r\n",
        "                cf.flatten()]\r\n",
        "group_percentages = ['{0:.2%}'.format(value) for value in cf.flatten()/np.sum(cf)]\r\n",
        "labels = [f'{v1}\\n{v2}\\n{v3}' for v1, v2, v3 in zip(group_names,group_counts,group_percentages)]\r\n",
        "labels = np.asarray(labels).reshape(2,2)\r\n",
        "ticks_labels = ['A', 'B']\r\n",
        "\r\n",
        "plt.figure(figsize=(5,5))\r\n",
        "sns.heatmap(cf, annot=labels, fmt='', cmap='Pastel2', yticklabels=ticks_labels , xticklabels= ticks_labels);\r\n",
        "plt.title(\"SGD Classifier After GridSearchCV Optimization\")\r\n",
        "plt.ylabel('Actual')\r\n",
        "plt.xlabel('Predicted')\r\n",
        "sns.set(font_scale=1);"
      ],
      "execution_count": null,
      "outputs": []
    },
    {
      "cell_type": "markdown",
      "metadata": {
        "id": "6R2mMyH5GfqJ"
      },
      "source": [
        "####**KNeighbors Classifier Model**"
      ]
    },
    {
      "cell_type": "code",
      "metadata": {
        "id": "PhCIUWwDHJjK"
      },
      "source": [
        "p_grid = {'algorithm':['auto', 'ball_tree', 'kd_tree', 'brute']}\r\n",
        "\r\n",
        "grid = GridSearchCV(knn, p_grid, cv=10,n_jobs=-1)\r\n",
        "\r\n",
        "\r\n"
      ],
      "execution_count": null,
      "outputs": []
    },
    {
      "cell_type": "code",
      "metadata": {
        "id": "X5KqRffKHJcO"
      },
      "source": [
        "grid.fit(X_train, y_train)"
      ],
      "execution_count": null,
      "outputs": []
    },
    {
      "cell_type": "code",
      "metadata": {
        "id": "4nwMTUr7HJVA"
      },
      "source": [
        "grid.best_params_"
      ],
      "execution_count": null,
      "outputs": []
    },
    {
      "cell_type": "code",
      "metadata": {
        "id": "2AN7mz5KGfqK"
      },
      "source": [
        "KNeighborsClassifier(algorithm= 'brute')\r\n",
        "knn = KNeighborsClassifier(n_neighbors=3)"
      ],
      "execution_count": null,
      "outputs": []
    },
    {
      "cell_type": "code",
      "metadata": {
        "id": "J31IvLQsT1eB"
      },
      "source": [
        "knn.fit(X_train, y_train)"
      ],
      "execution_count": null,
      "outputs": []
    },
    {
      "cell_type": "code",
      "metadata": {
        "id": "-NZoN6PrT1ND"
      },
      "source": [
        "knn_perds2 = knn.predict(X_test)"
      ],
      "execution_count": null,
      "outputs": []
    },
    {
      "cell_type": "code",
      "metadata": {
        "id": "foqPll5jT093"
      },
      "source": [
        "knn_acc2 = accuracy_score(y_test, knn_perds2)\r\n",
        "print('KNeighbors Classifier Accurecy Score After GridSearchCV Optimization = ' , knn_acc2)"
      ],
      "execution_count": null,
      "outputs": []
    },
    {
      "cell_type": "code",
      "metadata": {
        "id": "FemxfBA4YkbS"
      },
      "source": [
        "cf = confusion_matrix(y_test, knn_perds2)\r\n",
        "group_names = ['TP','FP','FN','TN']\r\n",
        "group_counts = ['{0:0.0f}'.format(value) for value in\r\n",
        "                cf.flatten()]\r\n",
        "group_percentages = ['{0:.2%}'.format(value) for value in cf.flatten()/np.sum(cf)]\r\n",
        "labels = [f'{v1}\\n{v2}\\n{v3}' for v1, v2, v3 in zip(group_names,group_counts,group_percentages)]\r\n",
        "labels = np.asarray(labels).reshape(2,2)\r\n",
        "ticks_labels = ['A', 'B']\r\n",
        "\r\n",
        "plt.figure(figsize=(5,5))\r\n",
        "sns.heatmap(cf, annot=labels, fmt='', cmap='Pastel2', yticklabels=ticks_labels , xticklabels= ticks_labels);\r\n",
        "plt.title(\"KNeighbors Classifier After GridSearchCV Optimization\")\r\n",
        "plt.ylabel('Actual')\r\n",
        "plt.xlabel('Predicted')\r\n",
        "sns.set(font_scale=1);"
      ],
      "execution_count": null,
      "outputs": []
    },
    {
      "cell_type": "markdown",
      "metadata": {
        "id": "jwvo_Ax7Bk3X"
      },
      "source": [
        "###**Randomized SearchCV**"
      ]
    },
    {
      "cell_type": "markdown",
      "metadata": {
        "id": "JS6aamfkHc0Z"
      },
      "source": [
        "####**Logistic Regression Model**"
      ]
    },
    {
      "cell_type": "code",
      "metadata": {
        "id": "zSU7CMngyOZK"
      },
      "source": [
        "# parameters\r\n",
        "distributions = dict(C=uniform(loc=0, scale=4), penalty=['l2', 'l1'])\r\n",
        "# RandomizedSerach Object\r\n",
        "clf = RandomizedSearchCV(lr, distributions, cv=7)\r\n"
      ],
      "execution_count": null,
      "outputs": []
    },
    {
      "cell_type": "code",
      "metadata": {
        "id": "H_rxPN1tSkZj"
      },
      "source": [
        "search = clf.fit(X_train, y_train)"
      ],
      "execution_count": null,
      "outputs": []
    },
    {
      "cell_type": "code",
      "metadata": {
        "id": "KElm36gxGBo4"
      },
      "source": [
        "clf.best_params_"
      ],
      "execution_count": null,
      "outputs": []
    },
    {
      "cell_type": "code",
      "metadata": {
        "id": "MwsMqegNFQua"
      },
      "source": [
        "# lr = LogisticRegression(max_iter=10000,C= 3.1445359608780548,penalty= 'l2')\r\n",
        "lr = LogisticRegression(max_iter=10000,C= 2.737146901722626,penalty= 'l2')"
      ],
      "execution_count": null,
      "outputs": []
    },
    {
      "cell_type": "code",
      "metadata": {
        "id": "rlGdl4KNTdJR"
      },
      "source": [
        "lr.fit(X_train, y_train)"
      ],
      "execution_count": null,
      "outputs": []
    },
    {
      "cell_type": "code",
      "metadata": {
        "id": "sEFxYg3ITc3L"
      },
      "source": [
        "lr_preds=lr.predict(X_test)"
      ],
      "execution_count": null,
      "outputs": []
    },
    {
      "cell_type": "code",
      "metadata": {
        "id": "_snBQH2jTcmy"
      },
      "source": [
        "lr_acc = accuracy_score(y_test, lr_preds)\r\n",
        "print('Logistic Regression Accurecy Score After Randomized SearchCV Optimization = ' , lr_acc)"
      ],
      "execution_count": null,
      "outputs": []
    },
    {
      "cell_type": "code",
      "metadata": {
        "id": "16O-75UzZs1Z"
      },
      "source": [
        "cf = confusion_matrix(y_test, lr_preds)\r\n",
        "group_names = ['TP','FP','FN','TN']\r\n",
        "group_counts = ['{0:0.0f}'.format(value) for value in\r\n",
        "                cf.flatten()]\r\n",
        "group_percentages = ['{0:.2%}'.format(value) for value in cf.flatten()/np.sum(cf)]\r\n",
        "labels = [f'{v1}\\n{v2}\\n{v3}' for v1, v2, v3 in zip(group_names,group_counts,group_percentages)]\r\n",
        "labels = np.asarray(labels).reshape(2,2)\r\n",
        "ticks_labels = ['A', 'B']\r\n",
        "\r\n",
        "plt.figure(figsize=(5,5))\r\n",
        "sns.heatmap(cf, annot=labels, fmt='', cmap='Pastel2', yticklabels=ticks_labels , xticklabels= ticks_labels);\r\n",
        "plt.title(\"Logistic Regression After Randomized SearchCV Optimization\")\r\n",
        "plt.ylabel('Actual')\r\n",
        "plt.xlabel('Predicted')\r\n",
        "sns.set(font_scale=1);"
      ],
      "execution_count": null,
      "outputs": []
    },
    {
      "cell_type": "markdown",
      "metadata": {
        "id": "4TSTWeNtHlli"
      },
      "source": [
        "####**SGD Classifier Model**"
      ]
    },
    {
      "cell_type": "code",
      "metadata": {
        "id": "cD6hgA8SHllj"
      },
      "source": [
        "# parameters\r\n",
        "distributions = dict(fit_intercept=[True, False], penalty=['l1', 'l2', 'elasticnet'])\r\n",
        "# RandomizedSerach Object\r\n",
        "clf = RandomizedSearchCV(sgdc, distributions, cv=7)"
      ],
      "execution_count": null,
      "outputs": []
    },
    {
      "cell_type": "code",
      "metadata": {
        "id": "QVzEtbN0Sht1"
      },
      "source": [
        "search = clf.fit(X_train, y_train)"
      ],
      "execution_count": null,
      "outputs": []
    },
    {
      "cell_type": "code",
      "metadata": {
        "id": "ADP1e6A3Hllj"
      },
      "source": [
        "clf.best_params_"
      ],
      "execution_count": null,
      "outputs": []
    },
    {
      "cell_type": "code",
      "metadata": {
        "id": "8hxDqLyJHllk"
      },
      "source": [
        "sgdc = SGDClassifier(max_iter=10000,\r\n",
        "                     fit_intercept=True,\r\n",
        "                     penalty='elasticnet')"
      ],
      "execution_count": null,
      "outputs": []
    },
    {
      "cell_type": "code",
      "metadata": {
        "id": "YYlO59-RTOvi"
      },
      "source": [
        "sgdc.fit(X_train, y_train)"
      ],
      "execution_count": null,
      "outputs": []
    },
    {
      "cell_type": "code",
      "metadata": {
        "id": "5qSTIc8ITOey"
      },
      "source": [
        "sgd_preds=sgdc.predict(X_test)"
      ],
      "execution_count": null,
      "outputs": []
    },
    {
      "cell_type": "code",
      "metadata": {
        "id": "3SaP4O2NTORJ"
      },
      "source": [
        "sgd_acc = accuracy_score(y_test, sgd_preds)\r\n",
        "print('SGD Classifier Accurecy Score After Randomized SearchCV Optimization = ' , sgd_acc)"
      ],
      "execution_count": null,
      "outputs": []
    },
    {
      "cell_type": "code",
      "metadata": {
        "id": "da-lQn8pZRfy"
      },
      "source": [
        "cf = confusion_matrix(y_test, sgd_preds)\r\n",
        "group_names = ['TP','FP','FN','TN']\r\n",
        "group_counts = ['{0:0.0f}'.format(value) for value in\r\n",
        "                cf.flatten()]\r\n",
        "group_percentages = ['{0:.2%}'.format(value) for value in cf.flatten()/np.sum(cf)]\r\n",
        "labels = [f'{v1}\\n{v2}\\n{v3}' for v1, v2, v3 in zip(group_names,group_counts,group_percentages)]\r\n",
        "labels = np.asarray(labels).reshape(2,2)\r\n",
        "ticks_labels = ['A', 'B']\r\n",
        "\r\n",
        "plt.figure(figsize=(5,5))\r\n",
        "sns.heatmap(cf, annot=labels, fmt='', cmap='Pastel2', yticklabels=ticks_labels , xticklabels= ticks_labels);\r\n",
        "plt.title(\"SGD Classifier After Randomized SearchCV Optimization Optimization\")\r\n",
        "plt.ylabel('Actual')\r\n",
        "plt.xlabel('Predicted')\r\n",
        "sns.set(font_scale=1);"
      ],
      "execution_count": null,
      "outputs": []
    },
    {
      "cell_type": "markdown",
      "metadata": {
        "id": "BMYQ67ixHmz6"
      },
      "source": [
        "####**KNeighbors Classifier Model**"
      ]
    },
    {
      "cell_type": "code",
      "metadata": {
        "id": "rPkuDzRCHmz6"
      },
      "source": [
        "# parameters\r\n",
        "distributions = dict(n_neighbors=[1,2,3,4,5], algorithm=['auto', 'ball_tree', 'kd_tree', 'brute'])\r\n",
        "# RandomizedSerach Object\r\n",
        "clf = RandomizedSearchCV(knn, distributions, cv=7)"
      ],
      "execution_count": null,
      "outputs": []
    },
    {
      "cell_type": "code",
      "metadata": {
        "id": "MhxasPh_Tmok"
      },
      "source": [
        "search = clf.fit(X_train, y_train)"
      ],
      "execution_count": null,
      "outputs": []
    },
    {
      "cell_type": "code",
      "metadata": {
        "id": "bRVc-BZOHmz7"
      },
      "source": [
        "clf.best_params_"
      ],
      "execution_count": null,
      "outputs": []
    },
    {
      "cell_type": "code",
      "metadata": {
        "id": "qKXU7-gHHmz7"
      },
      "source": [
        "KNeighborsClassifier(algorithm= 'brute', n_neighbors= 5)\r\n",
        "knn = KNeighborsClassifier(n_neighbors=3)"
      ],
      "execution_count": null,
      "outputs": []
    },
    {
      "cell_type": "code",
      "metadata": {
        "id": "E3hGP5XtTrm2"
      },
      "source": [
        "knn.fit(X_train, y_train)"
      ],
      "execution_count": null,
      "outputs": []
    },
    {
      "cell_type": "code",
      "metadata": {
        "id": "IaJd1DwBTreW"
      },
      "source": [
        "knn_perds = knn.predict(X_test)"
      ],
      "execution_count": null,
      "outputs": []
    },
    {
      "cell_type": "code",
      "metadata": {
        "id": "D8BVwlpOTrSW"
      },
      "source": [
        "knn_acc = accuracy_score(y_test, knn_perds)\r\n",
        "print('KNeighbors Classifier Accurecy Score After Randomized SearchCV Optimization = ' , knn_acc)"
      ],
      "execution_count": null,
      "outputs": []
    },
    {
      "cell_type": "code",
      "metadata": {
        "id": "gscyVpCCZkhD"
      },
      "source": [
        "cf = confusion_matrix(y_test, knn_perds)\r\n",
        "group_names = ['TP','FP','FN','TN']\r\n",
        "group_counts = ['{0:0.0f}'.format(value) for value in\r\n",
        "                cf.flatten()]\r\n",
        "group_percentages = ['{0:.2%}'.format(value) for value in cf.flatten()/np.sum(cf)]\r\n",
        "labels = [f'{v1}\\n{v2}\\n{v3}' for v1, v2, v3 in zip(group_names,group_counts,group_percentages)]\r\n",
        "labels = np.asarray(labels).reshape(2,2)\r\n",
        "ticks_labels = ['A', 'B']\r\n",
        "\r\n",
        "plt.figure(figsize=(5,5))\r\n",
        "sns.heatmap(cf, annot=labels, fmt='', cmap='Pastel2', yticklabels=ticks_labels , xticklabels= ticks_labels);\r\n",
        "plt.title(\"KNeighbors Classifier After Randomized SearchCV Optimization\")\r\n",
        "plt.ylabel('Actual')\r\n",
        "plt.xlabel('Predicted')\r\n",
        "sns.set(font_scale=1);"
      ],
      "execution_count": null,
      "outputs": []
    },
    {
      "cell_type": "markdown",
      "metadata": {
        "id": "br-1Juto9eI3"
      },
      "source": [
        "##**Model Determination**"
      ]
    },
    {
      "cell_type": "code",
      "metadata": {
        "id": "dvRoMEvzuhJM"
      },
      "source": [
        "# calculate roc curves\r\n",
        "bl_x, bl_y, _ = roc_curve(y_test, baseline_preds )\r\n",
        "\r\n",
        "lr_x1, lr_y1, _ = roc_curve(y_test, lr_preds1)\r\n",
        "sgd_x1, sgd_y1, _ = roc_curve(y_test, sgd_preds1)\r\n",
        "knn_x1, knn_y1, _ = roc_curve(y_test, knn_perds1)\r\n",
        "\r\n",
        "lr_x2, lr_y2, _ = roc_curve(y_test, lr_preds2)\r\n",
        "sgd_x2, sgd_y2, _ = roc_curve(y_test, sgd_preds2)\r\n",
        "knn_x2, knn_y2, _ = roc_curve(y_test, knn_perds2)\r\n",
        "\r\n",
        "lr_x3, lr_y3, _ = roc_curve(y_test, lr_preds)\r\n",
        "sgd_x3, sgd_y3, _ = roc_curve(y_test, sgd_preds)\r\n",
        "knn_x3, knn_y3, _ = roc_curve(y_test, knn_perds)\r\n",
        "# area under the curve\r\n",
        "bl_auc = auc(bl_x , bl_y)\r\n",
        "\r\n",
        "lr_auc1 = auc(lr_x1 , lr_y1)\r\n",
        "lr_g_auc1 = auc(sgd_x1 , sgd_y1)\r\n",
        "knn_auc1 = auc(knn_x1, knn_y1)\r\n",
        "\r\n",
        "lr_auc2 = auc(lr_x2 , lr_y2)\r\n",
        "lr_g_auc2 = auc(sgd_x2 , sgd_y2)\r\n",
        "knn_auc2 = auc(knn_x2, knn_y2)\r\n",
        "\r\n",
        "lr_auc = auc(lr_x3 , lr_y3)\r\n",
        "lr_g_auc = auc(sgd_x3 , sgd_y3)\r\n",
        "knn_auc = auc(knn_x3, knn_y3)\r\n",
        "\r\n",
        "\r\n",
        "\r\n",
        "# plot the roc curve for the model\r\n",
        "plt.figure(figsize=(18,7))\r\n",
        "plt.plot(bl_x, bl_y, linestyle='--', label='Baseline: (Auc = %0.2f)' % bl_auc)\r\n",
        "\r\n",
        "plt.plot(lr_x1, lr_y1, marker='.', label='Logistic: (Auc = %0.2f)' % lr_auc1)\r\n",
        "plt.plot(sgd_x1, sgd_y1, marker='.', label='SGD Classifier: (Auc = %0.2f)' % lr_g_auc1)\r\n",
        "plt.plot(knn_x1, knn_y1, marker='.', label='KNN: (Auc = %0.2f)' % knn_auc1)\r\n",
        "\r\n",
        "plt.plot(lr_x2, lr_y2, marker='*', label='Logistic model After GridSearchCV Optimization: (Auc = %0.2f)' % lr_auc2)\r\n",
        "plt.plot(sgd_x2, sgd_y2, marker='*', label='SGD Classifier After GridSearchCV Optimization: (Auc = %0.2f)' % lr_g_auc2)\r\n",
        "plt.plot(knn_x2, knn_y2, marker='*', label='KNN After GridSearchCV Optimization: (Auc = %0.2f)' % knn_auc2)\r\n",
        "\r\n",
        "plt.plot(lr_x3, lr_y3, marker=\"o\", label='Logistic model After Randomized Optimization: (Auc = %0.2f)' % lr_auc)\r\n",
        "plt.plot(sgd_x3, sgd_y3, marker=\"o\", label='SGD Classifier After Randomized Optimization: (Auc = %0.2f)' % lr_g_auc)\r\n",
        "plt.plot(knn_x3, knn_y3, marker=\"o\", label='KNN After Randomized Optimization: (Auc = %0.2f)' % knn_auc)\r\n",
        "\r\n",
        "# axis labels\r\n",
        "plt.xlabel('False Positive')\r\n",
        "plt.ylabel('True Positive ')\r\n",
        "# legend\r\n",
        "plt.legend();"
      ],
      "execution_count": null,
      "outputs": []
    },
    {
      "cell_type": "markdown",
      "metadata": {
        "id": "npi3nvum9sRl"
      },
      "source": [
        "Type your finding\r\n",
        "which model you would select ? and Why?\r\n"
      ]
    },
    {
      "cell_type": "code",
      "metadata": {
        "id": "M3KFfUdjkVVf"
      },
      "source": [
        "\r\n",
        "best_score= {'baseline model':bl_acc,\r\n",
        "                 'Logistic model':lr_acc1,\r\n",
        "                 'SGD Classifier model':sgd_acc1,\r\n",
        "                 'KNN model':knn_acc1,\r\n",
        "                 'Logistic model After GridSearchCV Optimization':lr_acc2,\r\n",
        "                 'SGD Classifier model After GridSearchCV Optimization':sgd_acc2,\r\n",
        "                 'KNN model After GridSearchCV Optimization':knn_acc2,\r\n",
        "                 'Logistic model After Randomized Optimization':lr_acc,\r\n",
        "                 'SGD Classifier model After Randomized Optimization':sgd_acc,\r\n",
        "                 'KNN model After Randomized Optimization':knn_acc}"
      ],
      "execution_count": null,
      "outputs": []
    },
    {
      "cell_type": "code",
      "metadata": {
        "id": "hlAlkjEGsoe1"
      },
      "source": [
        "max_key = max(best_score, key=best_score.get)\r\n",
        "max_value =best_score[max_key]"
      ],
      "execution_count": null,
      "outputs": []
    },
    {
      "cell_type": "code",
      "metadata": {
        "id": "fD6unLDS6hdb"
      },
      "source": [
        "print(f'As seen in the above scores tests, we select {max_key} with an accuracy score:{max_value}')"
      ],
      "execution_count": null,
      "outputs": []
    }
  ]
}